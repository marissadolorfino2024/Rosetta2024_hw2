{
 "cells": [
  {
   "attachments": {},
   "cell_type": "markdown",
   "metadata": {},
   "source": [
    "First off, you need to open this notebook in Google Colab. So download this notebook and upload it to your Google Drive. Once it's in your Google Drive, you can open it with Google Colab. "
   ]
  },
  {
   "attachments": {},
   "cell_type": "markdown",
   "metadata": {},
   "source": [
    "# HW2 : Pine Trees\n",
    "\n",
    "I would like you to channel your inner Bob Ross and write a python program that draws ASCII art pine trees.\n",
    "Your program should prompt the user to input the height of the tree they would like. Then it should draw a tree to the output area beneath your code. The tree should be made of astrix (*) . It should have a trunk visible at the bottom of the tree from the pipe symbol (|).\n",
    "\n",
    "An example run would look like below:"
   ]
  },
  {
   "cell_type": "code",
   "execution_count": null,
   "metadata": {},
   "outputs": [],
   "source": [
    "'''\n",
    "How tall should the tree be? 10\n",
    "          *          \n",
    "         ***         \n",
    "        *****        \n",
    "       *******       \n",
    "      *********      \n",
    "     ***********     \n",
    "    *************    \n",
    "   ***************   \n",
    "  *****************  \n",
    " ******************* \n",
    "          |         \n",
    "'''"
   ]
  },
  {
   "attachments": {},
   "cell_type": "markdown",
   "metadata": {},
   "source": [
    "Here's another example with a shorter tree:"
   ]
  },
  {
   "cell_type": "code",
   "execution_count": null,
   "metadata": {},
   "outputs": [],
   "source": [
    "'''\n",
    "How tall should the tree be? 4\n",
    "    *    \n",
    "   ***   \n",
    "  *****  \n",
    " ******* \n",
    "    |    \n",
    "'''"
   ]
  },
  {
   "attachments": {},
   "cell_type": "markdown",
   "metadata": {},
   "source": [
    "### Here are some hints:\n",
    "\n",
    "* You will use the print function. \n",
    "  * I want you to use the print function to print only a single character at a time. \n",
    "  * For example, you should use `print(\"*\", end=\"\")` or `print(\" \", end=\"\")`.\n",
    "  \n",
    "  \n",
    "* In order to get this program to work, you will need to use for loops. \n",
    "  * You will write more than one for loop.\n",
    "\n",
    "* You will prompt the user to specify a length by asking \"How tall should the tree be?\"\n",
    "  * The user shoud be able to enter their answer on the same line as the question.\n",
    "  * After entering their answer, the tree should be drawn to the output area."
   ]
  },
  {
   "cell_type": "code",
   "execution_count": 2,
   "metadata": {},
   "outputs": [],
   "source": [
    "# Implement your code in this cell."
   ]
  }
 ],
 "metadata": {
  "kernelspec": {
   "display_name": "Python 3",
   "language": "python",
   "name": "python3"
  },
  "language_info": {
   "codemirror_mode": {
    "name": "ipython",
    "version": 3
   },
   "file_extension": ".py",
   "mimetype": "text/x-python",
   "name": "python",
   "nbconvert_exporter": "python",
   "pygments_lexer": "ipython3",
   "version": "3.10.6"
  },
  "orig_nbformat": 4
 },
 "nbformat": 4,
 "nbformat_minor": 2
}
